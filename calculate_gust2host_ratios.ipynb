{
 "cells": [
  {
   "cell_type": "code",
   "execution_count": 1,
   "metadata": {
    "collapsed": true
   },
   "outputs": [],
   "source": [
    "import pandas as pd\n",
    "pd.set_option('display.max_columns', 500)\n",
    "import numpy as np\n",
    "import matplotlib.pyplot as plt\n",
    "import seaborn as sns\n",
    "%matplotlib inline\n",
    "import datetime\n",
    "import lightgbm as lgb\n",
    "from sklearn import preprocessing\n",
    "from sklearn.model_selection import GridSearchCV\n",
    "import json\n",
    "import os\n",
    "from pandas.io.json import json_normalize\n",
    "import datetime\n"
   ]
  },
  {
   "cell_type": "code",
   "execution_count": 2,
   "metadata": {
    "collapsed": true
   },
   "outputs": [],
   "source": [
    "# Reading the events and guests files from CSV\n",
    "events_Fathers_Day_df = pd.read_csv('events_Fathers_Day.csv')\n",
    "guests_host_Fathers_Day_df = pd.read_csv('guests_host_Fathers_Day.csv')\n",
    "\n",
    "guests_host_Fathers_Day_df = pd.merge(guests_host_Fathers_Day_df,events_Fathers_Day_df[[\n",
    "    'event_id','premium_vs_free']],on = 'event_id')"
   ]
  },
  {
   "cell_type": "code",
   "execution_count": 3,
   "metadata": {
    "collapsed": true
   },
   "outputs": [],
   "source": [
    "def guest2host_ratio(df_events, df_guests):\n",
    "    temp = df_events[['event_date','host_id']]\n",
    "    hosts_with_earliest_event_date_df = temp.groupby('host_id', as_index=False).agg(min).rename(columns={'host_id': 'user_id','event_date': 'as_host_date'})\n",
    "    \n",
    "    temp = df_guests[['event_date','user_id']]\n",
    "    all_users_with_earliest_event_date_df = temp.groupby(\n",
    "        'user_id', as_index=False).agg(min).rename(columns={'event_date': 'all_events_date'})\n",
    "    \n",
    "    merged_data = pd.merge(hosts_with_earliest_event_date_df, all_users_with_earliest_event_date_df,\\\n",
    "         on = 'user_id')\n",
    "    \n",
    "    merged_data['guest2host'] = (merged_data['as_host_date'] > merged_data['all_events_date']).astype(int)\n",
    "    merged_data = merged_data.rename(columns={'user_id': 'host_id'})\n",
    "    \n",
    "    guest_turned_host = merged_data['guest2host'].astype(int)\n",
    "    \n",
    "    return(guest_turned_host.sum()/df_guests['user_id'].nunique())"
   ]
  },
  {
   "cell_type": "code",
   "execution_count": 9,
   "metadata": {},
   "outputs": [
    {
     "data": {
      "text/plain": [
       "0.0011608477706446223"
      ]
     },
     "execution_count": 9,
     "metadata": {},
     "output_type": "execute_result"
    }
   ],
   "source": [
    "guest2host_ratio(events_Fathers_Day_df, guests_host_Fathers_Day_df)"
   ]
  },
  {
   "cell_type": "code",
   "execution_count": 4,
   "metadata": {},
   "outputs": [
    {
     "data": {
      "text/plain": [
       "0.001175152194324136"
      ]
     },
     "execution_count": 4,
     "metadata": {},
     "output_type": "execute_result"
    }
   ],
   "source": [
    "guest2host_ratio(events_Fathers_Day_df[events_Fathers_Day_df['premium_vs_free'] == 'Free'], \n",
    "                 guests_host_Fathers_Day_df[guests_host_Fathers_Day_df['premium_vs_free'] == 'Free'])"
   ]
  },
  {
   "cell_type": "code",
   "execution_count": 8,
   "metadata": {},
   "outputs": [
    {
     "data": {
      "text/plain": [
       "(11046,)"
      ]
     },
     "execution_count": 8,
     "metadata": {},
     "output_type": "execute_result"
    }
   ],
   "source": [
    "events_Fathers_Day_df[events_Fathers_Day_df['premium_vs_free'] == 'Free']['premium_vs_free'].shape"
   ]
  },
  {
   "cell_type": "code",
   "execution_count": null,
   "metadata": {
    "collapsed": true
   },
   "outputs": [],
   "source": [
    "# design a new feature of guests who turned into hosts.\n",
    "# first: in the events df, for each host find the first date when they hosted an event\n",
    "# second: in the guests df, for each user find the first date when they attended an event\n",
    "# third: merge these two tables based on the user_id. you'll get a table with three columns:\n",
    "# user_id, as_host_date, all_events_date\n",
    "# in the resulting table, keep only the users for whom the as_host_date is later (more than) all_events_date\n",
    "# this will give a list of the guests who later became hosts\n",
    "\n",
    "# \"hosts_with_earliest_event_date_df\" contains id of each host with the earliest date they hosted an event\n",
    "temp = events_Fathers_Day_df[['event_date','host_id']]\n",
    "hosts_with_earliest_event_date_df = temp.groupby('host_id', as_index=False).agg(min).rename(columns={'host_id': 'user_id','event_date': 'as_host_date'})\n",
    "\n",
    "# \"all_users_with_earliest_event_date_df\" will contain information of users with an earliest even they attended, including as a guest\n",
    "temp = guests_host_Fathers_Day_df[['event_date','user_id']]\n",
    "all_users_with_earliest_event_date_df = temp.groupby('user_id', as_index=False).agg(min).rename(columns={'event_date': 'all_events_date'})\n",
    "\n",
    "merged_data = pd.merge(hosts_with_earliest_event_date_df, all_users_with_earliest_event_date_df,\\\n",
    "         on = 'user_id')\n",
    "#merged_data.head()\n",
    "\n",
    "merged_data['guest2host'] = (merged_data['as_host_date'] > merged_data['all_events_date']).astype(int)\n",
    "merged_data = merged_data.rename(columns={'user_id': 'host_id'})\n",
    "\n",
    "guest_turned_host = merged_data['guest2host'].astype(int)"
   ]
  },
  {
   "cell_type": "code",
   "execution_count": 10,
   "metadata": {},
   "outputs": [
    {
     "data": {
      "text/plain": [
       "0.002"
      ]
     },
     "execution_count": 10,
     "metadata": {},
     "output_type": "execute_result"
    }
   ],
   "source": [
    "20/10000"
   ]
  },
  {
   "cell_type": "code",
   "execution_count": null,
   "metadata": {
    "collapsed": true
   },
   "outputs": [],
   "source": []
  }
 ],
 "metadata": {
  "kernelspec": {
   "display_name": "Python 3",
   "language": "python",
   "name": "python3"
  },
  "language_info": {
   "codemirror_mode": {
    "name": "ipython",
    "version": 3
   },
   "file_extension": ".py",
   "mimetype": "text/x-python",
   "name": "python",
   "nbconvert_exporter": "python",
   "pygments_lexer": "ipython3",
   "version": "3.6.6"
  }
 },
 "nbformat": 4,
 "nbformat_minor": 2
}
